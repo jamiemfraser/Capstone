{
 "cells": [
  {
   "cell_type": "markdown",
   "id": "849f9bbd-ad4e-419c-91ce-854a8fb6df71",
   "metadata": {},
   "source": [
    "# <center> Applied Data Science Capstone Project <center>"
   ]
  },
  {
   "cell_type": "markdown",
   "id": "176a8a81-5047-4cd7-ad00-c004c0a5472c",
   "metadata": {},
   "source": [
    "<b> Author: Jamie Fraser <b>"
   ]
  },
  {
   "cell_type": "markdown",
   "id": "d03d6700-912f-4774-b00d-dfcda8df91e9",
   "metadata": {},
   "source": [
    "This notebook is for the Applied Data Science Capstone project, in fulfilment of the requirements for the IBM Data Science Professional Certificate. Course was completed from June to August of 2021."
   ]
  },
  {
   "cell_type": "code",
   "execution_count": 2,
   "id": "bb9ab005-216a-4520-b4ec-d86259e4b8d8",
   "metadata": {},
   "outputs": [],
   "source": [
    "import pandas as pd\n",
    "import numpy as np"
   ]
  },
  {
   "cell_type": "code",
   "execution_count": 4,
   "id": "e7383845-114a-4a4a-8c7f-9eab99437600",
   "metadata": {},
   "outputs": [
    {
     "name": "stdout",
     "output_type": "stream",
     "text": [
      "Hello Capstone Project Course!\n"
     ]
    }
   ],
   "source": [
    "print(\"Hello Capstone Project Course!\")"
   ]
  },
  {
   "cell_type": "code",
   "execution_count": null,
   "id": "c555393b-2800-45a4-839d-ee979610893c",
   "metadata": {},
   "outputs": [],
   "source": []
  }
 ],
 "metadata": {
  "kernelspec": {
   "display_name": "Python 3",
   "language": "python",
   "name": "python3"
  },
  "language_info": {
   "codemirror_mode": {
    "name": "ipython",
    "version": 3
   },
   "file_extension": ".py",
   "mimetype": "text/x-python",
   "name": "python",
   "nbconvert_exporter": "python",
   "pygments_lexer": "ipython3",
   "version": "3.8.8"
  }
 },
 "nbformat": 4,
 "nbformat_minor": 5
}
